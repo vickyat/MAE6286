{
 "cells": [
  {
   "cell_type": "code",
   "execution_count": 1,
   "metadata": {
    "collapsed": true
   },
   "outputs": [],
   "source": [
    "import math\n",
    "import numpy\n",
    "from matplotlib import pyplot\n",
    "%matplotlib inline\n",
    "from matplotlib import rcParams\n",
    "rcParams['font.family']='serif'\n",
    "rcParams['font.size']=16"
   ]
  },
  {
   "cell_type": "code",
   "execution_count": 6,
   "metadata": {
    "collapsed": false
   },
   "outputs": [
    {
     "ename": "ValueError",
     "evalue": "The truth value of an array with more than one element is ambiguous. Use a.any() or a.all()",
     "output_type": "error",
     "traceback": [
      "\u001b[1;31m---------------------------------------------------------------------------\u001b[0m",
      "\u001b[1;31mValueError\u001b[0m                                Traceback (most recent call last)",
      "\u001b[1;32m<ipython-input-6-2e3715854fc1>\u001b[0m in \u001b[0;36m<module>\u001b[1;34m()\u001b[0m\n\u001b[0;32m     20\u001b[0m \u001b[1;33m\u001b[0m\u001b[0m\n\u001b[0;32m     21\u001b[0m \u001b[1;31m#below goes into for loop for calculating values before initiating Euler\u001b[0m\u001b[1;33m\u001b[0m\u001b[1;33m\u001b[0m\u001b[0m\n\u001b[1;32m---> 22\u001b[1;33m \u001b[1;32mif\u001b[0m \u001b[0mt\u001b[0m\u001b[1;33m<=\u001b[0m \u001b[1;36m5\u001b[0m\u001b[1;33m:\u001b[0m\u001b[1;33m\u001b[0m\u001b[0m\n\u001b[0m\u001b[0;32m     23\u001b[0m     \u001b[0mm_p_dot\u001b[0m \u001b[1;33m=\u001b[0m \u001b[1;36m100\u001b[0m\u001b[1;33m\u001b[0m\u001b[0m\n\u001b[0;32m     24\u001b[0m \u001b[1;32melse\u001b[0m\u001b[1;33m:\u001b[0m\u001b[1;33m\u001b[0m\u001b[0m\n",
      "\u001b[1;31mValueError\u001b[0m: The truth value of an array with more than one element is ambiguous. Use a.any() or a.all()"
     ]
    }
   ],
   "source": [
    "#constants\n",
    "m_s = 50.0    #weight of rocket shell in [kg]\n",
    "g = 9.81    #grav accel in [m/s^2]\n",
    "rho = 1.091    #density of air [kg/m^3]\n",
    "r = 0.5    #radius of rocket x-sect [m]\n",
    "A = math.pi*r**2    #max x-sect area of rocket\n",
    "v_e = 325.0    #exhaust speed [m/s]\n",
    "C_D = 0.15    #drag coeff\n",
    "m_po = 100.0    #initial weight of rocket propellant at t=0, [kg]\n",
    "v0 = 0\n",
    "y0 = 0\n",
    "x0 = 0\n",
    "\n",
    "T = 100\n",
    "dt = 0.1\n",
    "N = int(T/dt)+1\n",
    "t= numpy.linspace(0.0, T,N)\n",
    "\n",
    "\n",
    "\n",
    "#below goes into for loop for calculating values before initiating Euler\n",
    "if t<= 5:\n",
    "    m_p_dot = 100\n",
    "else:\n",
    "    m_p_dot = 0\n",
    "m_p = m_po - m_p_dot\n"
   ]
  },
  {
   "cell_type": "code",
   "execution_count": null,
   "metadata": {
    "collapsed": true
   },
   "outputs": [],
   "source": [
    "#functions\n",
    "\n",
    "def f(u):\n",
    "    v = u[0]\n",
    "    h = u[1]\n",
    "    return numpy.array([-g+m_p_dot*v_e/(m_s+m_p)-rho*A*C_D*v*math.abs(v)\\\n",
    "                        /(2*(m_s+m_p)),\\\n",
    "                       v])\n",
    "\n",
    "def euler(u,f,dt):\n",
    "    return u +dt*f(u)"
   ]
  }
 ],
 "metadata": {
  "kernelspec": {
   "display_name": "Python 3",
   "language": "python",
   "name": "python3"
  },
  "language_info": {
   "codemirror_mode": {
    "name": "ipython",
    "version": 3
   },
   "file_extension": ".py",
   "mimetype": "text/x-python",
   "name": "python",
   "nbconvert_exporter": "python",
   "pygments_lexer": "ipython3",
   "version": "3.4.3"
  }
 },
 "nbformat": 4,
 "nbformat_minor": 0
}
