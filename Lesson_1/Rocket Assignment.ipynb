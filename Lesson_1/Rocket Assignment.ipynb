{
 "cells": [
  {
   "cell_type": "code",
   "execution_count": 2,
   "metadata": {
    "collapsed": true
   },
   "outputs": [],
   "source": [
    "import math\n",
    "import numpy\n",
    "from matplotlib import pyplot\n",
    "%matplotlib inline\n",
    "from matplotlib import rcParams\n",
    "rcParams['font.family']='serif'\n",
    "rcParams['font.size']=16"
   ]
  },
  {
   "cell_type": "code",
   "execution_count": 3,
   "metadata": {
    "collapsed": false
   },
   "outputs": [],
   "source": [
    "#constants\n",
    "m_s = 50.0    #weight of rocket shell in [kg]\n",
    "g = 9.81    #grav accel in [m/s^2]\n",
    "rho = 1.091    #density of air [kg/m^3]\n",
    "r = 0.5    #radius of rocket x-sect [m]\n",
    "A = math.pi*r**2    #max x-sect area of rocket\n",
    "v_e = 325.0    #exhaust speed [m/s]\n",
    "C_D = 0.15    #drag coeff\n",
    "m_po = 100.0    #initial weight of rocket propellant at t=0, [kg]\n",
    "v0 = 0\n",
    "h0 = 0\n",
    "\n",
    "T = 100\n",
    "dt = 0.1\n",
    "N = int(T/dt)+1\n",
    "t= numpy.linspace(0.0, T, N)\n",
    "\n",
    "\n",
    "\n",
    "#below goes into for loop for calculating values, before initiating Euler\n",
    "#if t<= 5:\n",
    "#    m_p_dot = 100\n",
    "#else:\n",
    "#    m_p_dot = 0\n",
    "#m_p = m_po - m_p_dot\n"
   ]
  },
  {
   "cell_type": "code",
   "execution_count": 35,
   "metadata": {
    "collapsed": false
   },
   "outputs": [],
   "source": [
    "#functions\n",
    "\n",
    "#def m_p(m_po,t):\n",
    "    \n",
    "    #for i, time in enumerate(t):\n",
    "        \n",
    "        #below goes into for loop for calculating values, before initiating Euler\n",
    "        #if time[i]<=5:\n",
    "            #m_p_dot = 100\n",
    "        #else:\n",
    "            #m_p_dot = 0\n",
    "        \n",
    "        #return m_po - m_p_dot\n",
    "\n",
    "#for i,timez in enumerate(t):    ##added below\n",
    "    #mass_prop = m_p(m_po, timez)\n",
    "\n",
    "\n",
    "def f(u):\n",
    "    v = u[0]\n",
    "    h = u[1]\n",
    "    return numpy.array([-g+m_p_dot*v_e/(m_s+m_p)-rho*A*C_D*v*abs(v)\\\n",
    "                        /(2*(m_s+m_p)),\\\n",
    "                       v])\n",
    "\n",
    "def euler(u,f,dt):\n",
    "    return u +dt*f(u)\n"
   ]
  },
  {
   "cell_type": "code",
   "execution_count": 125,
   "metadata": {
    "collapsed": false
   },
   "outputs": [],
   "source": [
    "u = numpy.empty((N,2))\n",
    "u[0] = numpy.array([v0,h0])\n",
    "massprop = numpy.empty_like(t)\n",
    "\n",
    "#for i,timez in enumerate(t):\n",
    "    #mass_prop = m_p(m_po, timez)   \n",
    "        \n",
    "for n in range(N-1):\n",
    "    if t[n]<=5:\n",
    "        m_p_dot = 20*t[n]\n",
    "        m_p = m_po - m_p_dot\n",
    "    \n",
    "    else:\n",
    "        m_p_dot = 0\n",
    "        m_p = 0\n",
    "    \n",
    "    massprop[n] = m_p#m_p = m_po - m_p_dot\n",
    "   \n",
    "    #print(m_p)\n",
    "    u[n+1] = euler(u[n], f, dt)\n",
    "    \n",
    "    #for i, time in enumerate(t):\n",
    "       \n",
    "        #if time<=5:\n",
    "            #m_p_dot = 100\n",
    "            #mass_prop = m_po - m_p_dot\n",
    "        #else:\n",
    "           # m_p_dot = 0\n",
    "            #mass_prop = m_po - m_p_dot\n",
    "        #for n in range(N-1):\n",
    "            #u[n+1] = euler(u[n], f, dt)\n",
    "    \n",
    "\n",
    "v = u[:,0]\n",
    "h = u[:,1]\n",
    "\n",
    "#positive values for height\n",
    "idx_negative_height = numpy.where(h<0.0)[0]\n",
    "if len(idx_negative_height)==0:\n",
    "    idx_ground_height = N-1\n",
    "    print('Euler integration has not touched ground yet')\n",
    "else: idx_ground_height = idx_negative_height[0]\n",
    "\n",
    "#positive values for velocity\n",
    "idx_negative_velocity = numpy.where(v<0.0)[0]\n",
    "if len(idx_negative_velocity)==0:\n",
    "    idx_ground_velocity = N-1\n",
    "    print('Euler integration has not touched ground yet')\n",
    "else: idx_ground_velocity = idx_negative_velocity[0]"
   ]
  },
  {
   "cell_type": "code",
   "execution_count": 126,
   "metadata": {
    "collapsed": false
   },
   "outputs": [
    {
     "data": {
      "image/png": "[encoded data removed]",
      "text/plain": [
       "<matplotlib.figure.Figure at 0x7f14d4de0320>"
      ]
     },
     "metadata": {},
     "output_type": "display_data"
    }
   ],
   "source": [
    "pyplot.figure(figsize=(7,7))\n",
    "pyplot.xlabel('t', fontsize =14)\n",
    "pyplot.ylabel('h', fontsize =14)\n",
    "#pyplot.plot(t[:idx_ground_height],h[:idx_ground_height]);\n",
    "pyplot.plot(t,h);"
   ]
  },
  {
   "cell_type": "code",
   "execution_count": 127,
   "metadata": {
    "collapsed": false
   },
   "outputs": [
    {
     "data": {
      "text/plain": [
       "[<matplotlib.lines.Line2D at 0x7f14d4c98eb8>]"
      ]
     },
     "execution_count": 127,
     "metadata": {},
     "output_type": "execute_result"
    },
    {
     "data": {
      "image/png": "[encoded data removed]",
      "text/plain": [
       "<matplotlib.figure.Figure at 0x7f14d4f317b8>"
      ]
     },
     "metadata": {},
     "output_type": "display_data"
    }
   ],
   "source": [
    "#pyplot.plot(t[:idx_ground_velocity],v[:idx_ground_velocity])\n",
    "pyplot.plot(t,v)"
   ]
  },
  {
   "cell_type": "code",
   "execution_count": 128,
   "metadata": {
    "collapsed": false
   },
   "outputs": [
    {
     "name": "stdout",
     "output_type": "stream",
     "text": [
      "Max height is 2550.593 m\n",
      "Max velocity is 622.425 m/s\n"
     ]
    }
   ],
   "source": [
    "hmax = h.max()\n",
    "vmax = v.max()\n",
    "print ('Max height is {:.3f} m'.format(hmax))\n",
    "print('Max velocity is {:.3f} m/s'.format(vmax))\n"
   ]
  },
  {
   "cell_type": "code",
   "execution_count": 129,
   "metadata": {
    "collapsed": false
   },
   "outputs": [
    {
     "name": "stdout",
     "output_type": "stream",
     "text": [
      "1.0\n"
     ]
    }
   ],
   "source": [
    "print(t[10])"
   ]
  },
  {
   "cell_type": "code",
   "execution_count": 131,
   "metadata": {
    "collapsed": false
   },
   "outputs": [
    {
     "name": "stdout",
     "output_type": "stream",
     "text": [
      "36.0\n"
     ]
    }
   ],
   "source": [
    "print (massprop[32])"
   ]
  },
  {
   "cell_type": "code",
   "execution_count": 151,
   "metadata": {
    "collapsed": false
   },
   "outputs": [
    {
     "name": "stdout",
     "output_type": "stream",
     "text": [
      "2.0\n"
     ]
    }
   ],
   "source": [
    "p = numpy.log((1.6-1.5)/(1.5-1.475))/numpy.log(2)\n",
    "print(p)"
   ]
  },
  {
   "cell_type": "code",
   "execution_count": 144,
   "metadata": {
    "collapsed": false
   },
   "outputs": [
    {
     "name": "stdout",
     "output_type": "stream",
     "text": [
      "6.2619047619\n"
     ]
    }
   ],
   "source": [
    "p = numpy.linspace(4,23,43)\n",
    "print(p[5])"
   ]
  },
  {
   "cell_type": "code",
   "execution_count": 148,
   "metadata": {
    "collapsed": false
   },
   "outputs": [
    {
     "name": "stdout",
     "output_type": "stream",
     "text": [
      "(5, 17)\n"
     ]
    }
   ],
   "source": [
    "ones_array = numpy.ones((5,17))\n",
    "zeros_array = numpy.zeros(ones_array.shape)\n",
    "print (zeros_array.shape)"
   ]
  },
  {
   "cell_type": "code",
   "execution_count": 150,
   "metadata": {
    "collapsed": false
   },
   "outputs": [
    {
     "name": "stdout",
     "output_type": "stream",
     "text": [
      "[ 0.20030151  0.99009101  0.66454238]\n"
     ]
    }
   ],
   "source": [
    "p = 7\n",
    "r = numpy.array([11.2,4.7,6.6])\n",
    "answer = (numpy.sin(p/r))**3\n",
    "print(answer)"
   ]
  },
  {
   "cell_type": "code",
   "execution_count": 155,
   "metadata": {
    "collapsed": false
   },
   "outputs": [
    {
     "ename": "SyntaxError",
     "evalue": "invalid syntax (<ipython-input-155-6f6e089d0d06>, line 1)",
     "output_type": "error",
     "traceback": [
      "\u001b[1;36m  File \u001b[1;32m\"<ipython-input-155-6f6e089d0d06>\"\u001b[1;36m, line \u001b[1;32m1\u001b[0m\n\u001b[1;33m    type h\u001b[0m\n\u001b[1;37m         ^\u001b[0m\n\u001b[1;31mSyntaxError\u001b[0m\u001b[1;31m:\u001b[0m invalid syntax\n"
     ]
    }
   ],
   "source": [
    "type h"
   ]
  },
  {
   "cell_type": "code",
   "execution_count": null,
   "metadata": {
    "collapsed": true
   },
   "outputs": [],
   "source": []
  }
 ],
 "metadata": {
  "kernelspec": {
   "display_name": "Python 3",
   "language": "python",
   "name": "python3"
  },
  "language_info": {
   "codemirror_mode": {
    "name": "ipython",
    "version": 3
   },
   "file_extension": ".py",
   "mimetype": "text/x-python",
   "name": "python",
   "nbconvert_exporter": "python",
   "pygments_lexer": "ipython3",
   "version": "3.4.3"
  }
 },
 "nbformat": 4,
 "nbformat_minor": 0
}
