{
 "cells": [
  {
   "cell_type": "code",
   "execution_count": 20,
   "metadata": {
    "collapsed": false
   },
   "outputs": [
    {
     "ename": "ValueError",
     "evalue": "The truth value of an array with more than one element is ambiguous. Use a.any() or a.all()",
     "output_type": "error",
     "traceback": [
      "\u001b[1;31m---------------------------------------------------------------------------\u001b[0m",
      "\u001b[1;31mValueError\u001b[0m                                Traceback (most recent call last)",
      "\u001b[1;32m<ipython-input-20-40286f567990>\u001b[0m in \u001b[0;36m<module>\u001b[1;34m()\u001b[0m\n\u001b[0;32m     60\u001b[0m         \u001b[0my\u001b[0m \u001b[1;33m=\u001b[0m \u001b[0mu\u001b[0m\u001b[1;33m[\u001b[0m\u001b[1;33m:\u001b[0m\u001b[1;33m,\u001b[0m\u001b[1;36m3\u001b[0m\u001b[1;33m]\u001b[0m\u001b[1;33m\u001b[0m\u001b[0m\n\u001b[0;32m     61\u001b[0m         \u001b[1;31m#add in y>0 function and change 'x' below to correct name\u001b[0m\u001b[1;33m\u001b[0m\u001b[1;33m\u001b[0m\u001b[0m\n\u001b[1;32m---> 62\u001b[1;33m         \u001b[1;32mif\u001b[0m \u001b[0mx\u001b[0m \u001b[1;33m>\u001b[0m \u001b[0mx_max\u001b[0m\u001b[1;33m:\u001b[0m\u001b[1;33m\u001b[0m\u001b[0m\n\u001b[0m\u001b[0;32m     63\u001b[0m             \u001b[0mx_max\u001b[0m\u001b[1;33m=\u001b[0m\u001b[0mx\u001b[0m\u001b[1;33m\u001b[0m\u001b[0m\n\u001b[0;32m     64\u001b[0m             \u001b[0mv0_max\u001b[0m\u001b[1;33m=\u001b[0m\u001b[0mv0\u001b[0m\u001b[1;33m\u001b[0m\u001b[0m\n",
      "\u001b[1;31mValueError\u001b[0m: The truth value of an array with more than one element is ambiguous. Use a.any() or a.all()"
     ]
    }
   ],
   "source": [
    "from math import sin,cos,log,ceil\n",
    "import numpy\n",
    "from matplotlib import pyplot\n",
    "%matplotlib inline\n",
    "from matplotlib import rcParams\n",
    "rcParams['font.family']='serif'\n",
    "rcParams['font.size']=16\n",
    "import math\n",
    "\n",
    "vary_v = [1.0,2.0,3.0,4.0,4.5,5.0,5.5,6.0,6.5,7.0,7.5]\n",
    "vary_theta = [-5.0, -3.0, -2.0, -1.0, -0.5,0.0, 0.5, 1.0,2.0,3.0,5.0]  #has to be in radians\n",
    "\n",
    "g = 9.81\n",
    "v_t = 4.9     #trim velocity\n",
    "D_L = 0.2   #L/D inverse\n",
    "#v0 = 5.1\n",
    "#vt = 0.1\n",
    "#theta0 = -.2\n",
    "#tt = 0.1\n",
    "x0 = 0.\n",
    "y0 = 2.\n",
    "#y[-1] = 0\n",
    "\n",
    "x_max=0.\n",
    "v0_max=0.\n",
    "theta0_max=0\n",
    "\n",
    "for v0 in vary_v : #use linspace or range instead to accept float and for greater range\n",
    "    v0 = vary_v[i]\n",
    "    #print(v0)\n",
    "    \n",
    "    for theta0 in range(-45,45,1):\n",
    "        theta0 = theta0*math.pi/180\n",
    "        \n",
    "        #theta0 = vary_theta[i]\n",
    "        #print(theta0)\n",
    "        \n",
    "        def f(u):\n",
    "            v = u[0]\n",
    "            theta = u[1]\n",
    "            x = u[2]\n",
    "            y = u[3]\n",
    "            return numpy.array([-g*sin(theta)-D_L*g/v_t**2*v**2,\\\n",
    "                       -g*cos(theta)/v + g/v_t**2*v,\\\n",
    "                       v*cos(theta),\\\n",
    "                       v*sin(theta)])\n",
    "\n",
    "        def euler_step(u,f,dt):\n",
    "            return u+ dt*f(u)\n",
    "\n",
    "        T = 20\n",
    "        dt = 0.001\n",
    "        N = int(T/dt)+1\n",
    "        t = numpy.linspace(0.0, T, N)\n",
    "        u = numpy.empty((N,4))\n",
    "        u[0] = numpy.array([v0, theta0, x0, y0])\n",
    "\n",
    "        for n in range (N-1):\n",
    "            u[n+1] = euler_step(u[n], f, dt)\n",
    "    \n",
    "#%timeit euler_step\n",
    "        x = u[:,2]\n",
    "        y = u[:,3]\n",
    "        \n",
    "        x_biggest = wheremax(x)\n",
    "        #add in y>0 function and change 'x' below to correct name\n",
    "        if x_biggest > x_max:\n",
    "            x_max=x_biggest\n",
    "            v0_max=v0\n",
    "            theta0_max=theta0\n",
    "        \n",
    "       \n",
    "        \n",
    "\n",
    "#pyplot.figure(figsize=(8,6))\n",
    "#pyplot.grid(True)\n",
    "#pyplot.xlabel(r'x', fontsize=18)\n",
    "#pyplot.ylabel(r'y', fontsize=18)\n",
    "#pyplot.title('Glider trajectory, flight time = %.2f' % T, fontsize=18)\n",
    "#pyplot.plot(x,y, 'k-', lw=2);\n",
    "\n",
    "        y_euler = y\n",
    "        idx_neg_euler = numpy.where(y_euler<0.0)[0]\n",
    "        if len(idx_neg_euler)==0:\n",
    "            idx_ground_euler = N-1\n",
    "            print(\"has not touched ground\")\n",
    "        else:\n",
    "            idx_ground_euler = idx_neg_euler[0]\n",
    "\n",
    "#print(y_euler[:21])\n",
    "\n",
    "##Y becomes negative after the 20th element\n",
    "        \n",
    "#       u_x_varied = numpy.empty((N,1))\n",
    "#       u_x_varied[i] = u[:,2]"
   ]
  },
  {
   "cell_type": "code",
   "execution_count": 112,
   "metadata": {
    "collapsed": false
   },
   "outputs": [
    {
     "name": "stdout",
     "output_type": "stream",
     "text": [
      "Max distance = 9.495\n"
     ]
    },
    {
     "data": {
      "image/png": "[encoded data removed]",
      "text/plain": [
       "<matplotlib.figure.Figure at 0x7f0cf4e0a320>"
      ]
     },
     "metadata": {},
     "output_type": "display_data"
    }
   ],
   "source": [
    "\n",
    "def f(u):\n",
    "    v = u[0]\n",
    "    theta = u[1]\n",
    "    x = u[2]\n",
    "    y = u[3]\n",
    "    return numpy.array([-g*sin(theta)-D_L*g/v_t**2*v**2,\\\n",
    "                       -g*cos(theta)/v + g/v_t**2*v,\\\n",
    "                       v*cos(theta),\\\n",
    "                       v*sin(theta)])\n",
    "\n",
    "def euler_step(u,f,dt):\n",
    "    return u+ dt*f(u)\n",
    "\n",
    "T = 20\n",
    "dt = 0.1\n",
    "N = int(T/dt)+1\n",
    "t = numpy.linspace(0.0, T, N)\n",
    "u = numpy.empty((N,4))\n",
    "u[0] = numpy.array([v0, theta0, x0, y0])\n",
    "\n",
    "for n in range (N-1):\n",
    "    u[n+1] = euler_step(u[n], f, dt)\n",
    "    \n",
    "#%timeit euler_step\n",
    "\n",
    "x = u[:,2]\n",
    "y = u[:,3]\n",
    "\n",
    "#pyplot.figure(figsize=(8,6))\n",
    "#pyplot.grid(True)\n",
    "#pyplot.xlabel(r'x', fontsize=18)\n",
    "#pyplot.ylabel(r'y', fontsize=18)\n",
    "#pyplot.title('Glider trajectory, flight time = %.2f' % T, fontsize=18)\n",
    "#pyplot.plot(x,y, 'k-', lw=2);\n",
    "\n",
    "y_euler = y\n",
    "idx_neg_euler = numpy.where(y_euler<0.0)[0]\n",
    "if len(idx_neg_euler)==0:\n",
    "    idx_ground_euler = N-1\n",
    "    print(\"has not touched ground\")\n",
    "else:\n",
    "    idx_ground_euler = idx_neg_euler[0]\n",
    "\n",
    "#print(y_euler[:21])\n",
    "\n",
    "##Y becomes negative after the 20th element\n",
    "\n",
    "pyplot.figure(figsize=(8,6))\n",
    "pyplot.grid(True)\n",
    "pyplot.xlabel(r'x', fontsize=18)\n",
    "pyplot.ylabel(r'y', fontsize=18)\n",
    "pyplot.title('Glider trajectory, flight time = %.2f' % T, fontsize=18)\n",
    "pyplot.plot(x[:21],y_euler[:21], 'k-', lw=2);\n",
    "\n",
    "print('Max distance = {:.3f}'.format(x[20]))"
   ]
  },
  {
   "cell_type": "code",
   "execution_count": 4,
   "metadata": {
    "collapsed": true
   },
   "outputs": [],
   "source": [
    "?max"
   ]
  },
  {
   "cell_type": "code",
   "execution_count": null,
   "metadata": {
    "collapsed": true
   },
   "outputs": [],
   "source": []
  }
 ],
 "metadata": {
  "kernelspec": {
   "display_name": "Python 3",
   "language": "python",
   "name": "python3"
  },
  "language_info": {
   "codemirror_mode": {
    "name": "ipython",
    "version": 3
   },
   "file_extension": ".py",
   "mimetype": "text/x-python",
   "name": "python",
   "nbconvert_exporter": "python",
   "pygments_lexer": "ipython3",
   "version": "3.4.3"
  }
 },
 "nbformat": 4,
 "nbformat_minor": 0
}
